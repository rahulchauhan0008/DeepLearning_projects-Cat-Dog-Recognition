{
 "cells": [
  {
   "cell_type": "code",
   "execution_count": 1,
   "id": "35248bde",
   "metadata": {},
   "outputs": [],
   "source": [
    "import numpy as np\n",
    "import cv2\n",
    "import os\n",
    "import random\n",
    "import matplotlib.pyplot as plt\n",
    "import pickle\n",
    "import time\n",
    "from tensorflow.keras.models import Sequential, load_model\n",
    "from tensorflow.keras.layers import Conv2D, MaxPooling2D, Flatten, Dense\n",
    "from tensorflow.keras.callbacks import TensorBoard"
   ]
  },
  {
   "cell_type": "code",
   "execution_count": 2,
   "id": "a0680003",
   "metadata": {},
   "outputs": [],
   "source": [
    "DIRECTORY = r'C:/Users/Admin/Downloads/dogscats/train'\n",
    "CATEGORIES = ['cat', 'dog']"
   ]
  },
  {
   "cell_type": "code",
   "execution_count": 3,
   "id": "8ae25de4",
   "metadata": {},
   "outputs": [],
   "source": [
    "NAME = f'cat-vs-dog-prediction-{int(time.time())}'\n",
    "\n",
    "\n",
    "tensorboard = TensorBoard(log_dir = f\"logs\\\\{NAME}\\\\\")"
   ]
  },
  {
   "cell_type": "code",
   "execution_count": 4,
   "id": "89320cd8",
   "metadata": {},
   "outputs": [],
   "source": [
    "img_size = 100\n",
    "data = []\n",
    "\n",
    "for category in CATEGORIES:\n",
    "    folder = os.path.join(DIRECTORY, category)\n",
    "    label = CATEGORIES.index(category)\n",
    "    for img in os.listdir(folder):\n",
    "        img_path = os.path.join(folder, img)\n",
    "        img_arr = cv2.imread(img_path)\n",
    "        img_arr = cv2.resize(img_arr,(img_size, img_size))\n",
    "        data.append([img_arr, label])"
   ]
  },
  {
   "cell_type": "code",
   "execution_count": 5,
   "id": "1fab23f1",
   "metadata": {},
   "outputs": [
    {
     "data": {
      "text/plain": [
       "23000"
      ]
     },
     "execution_count": 5,
     "metadata": {},
     "output_type": "execute_result"
    }
   ],
   "source": [
    "len(data)"
   ]
  },
  {
   "cell_type": "code",
   "execution_count": 6,
   "id": "639b20e3",
   "metadata": {},
   "outputs": [],
   "source": [
    "random.shuffle(data)    "
   ]
  },
  {
   "cell_type": "code",
   "execution_count": 7,
   "id": "602d2f74",
   "metadata": {},
   "outputs": [],
   "source": [
    "X = []\n",
    "y = []\n",
    "\n",
    "for features, labels in data:\n",
    "    X.append(features)\n",
    "    y.append(labels)"
   ]
  },
  {
   "cell_type": "code",
   "execution_count": 8,
   "id": "c4207ad0",
   "metadata": {},
   "outputs": [],
   "source": [
    "X = np.array(X)\n",
    "y = np.array(y)"
   ]
  },
  {
   "cell_type": "code",
   "execution_count": 9,
   "id": "42bc2670",
   "metadata": {},
   "outputs": [
    {
     "data": {
      "text/plain": [
       "23000"
      ]
     },
     "execution_count": 9,
     "metadata": {},
     "output_type": "execute_result"
    }
   ],
   "source": [
    "len(y)"
   ]
  },
  {
   "cell_type": "code",
   "execution_count": 10,
   "id": "8804ac72",
   "metadata": {},
   "outputs": [],
   "source": [
    "pickle.dump(X,open('X.pkl', 'wb'))\n",
    "pickle.dump(y, open('y.pkl', 'wb'))"
   ]
  },
  {
   "cell_type": "code",
   "execution_count": 11,
   "id": "b9c19903",
   "metadata": {},
   "outputs": [],
   "source": [
    "X = pickle.load(open('X.pkl','rb'))\n",
    "y = pickle.load(open('y.pkl','rb'))"
   ]
  },
  {
   "cell_type": "code",
   "execution_count": 12,
   "id": "ebb862d8",
   "metadata": {},
   "outputs": [],
   "source": [
    "X = X/255"
   ]
  },
  {
   "cell_type": "code",
   "execution_count": 13,
   "id": "99879f57",
   "metadata": {},
   "outputs": [],
   "source": [
    "model = Sequential()\n",
    "\n",
    "model.add(Conv2D(64,(3,3), activation='relu'))\n",
    "model.add(MaxPooling2D(2,2))\n",
    "\n",
    "model.add(Conv2D(64,(3,3), activation='relu'))\n",
    "model.add(MaxPooling2D(2,2))\n",
    "\n",
    "model.add(Flatten())\n",
    "\n",
    "model.add(Dense(128, input_shape = X.shape[1:], activation='relu' ))\n",
    "\n",
    "model.add(Dense(2, activation = 'softmax'))"
   ]
  },
  {
   "cell_type": "code",
   "execution_count": 14,
   "id": "2942df96",
   "metadata": {},
   "outputs": [],
   "source": [
    "model.compile(optimizer = 'adam', loss = 'sparse_categorical_crossentropy', metrics = 'accuracy')"
   ]
  },
  {
   "cell_type": "code",
   "execution_count": 15,
   "id": "28406030",
   "metadata": {},
   "outputs": [
    {
     "name": "stdout",
     "output_type": "stream",
     "text": [
      "Epoch 1/5\n",
      "647/647 [==============================] - 1845s 3s/step - loss: 0.6196 - accuracy: 0.6568 - val_loss: 0.5638 - val_accuracy: 0.6991\n",
      "Epoch 2/5\n",
      "647/647 [==============================] - 1821s 3s/step - loss: 0.5132 - accuracy: 0.7480 - val_loss: 0.5800 - val_accuracy: 0.7109\n",
      "Epoch 3/5\n",
      "647/647 [==============================] - 1817s 3s/step - loss: 0.4310 - accuracy: 0.8008 - val_loss: 0.4617 - val_accuracy: 0.7870\n",
      "Epoch 4/5\n",
      "647/647 [==============================] - 1824s 3s/step - loss: 0.3364 - accuracy: 0.8517 - val_loss: 0.4613 - val_accuracy: 0.7983\n",
      "Epoch 5/5\n",
      "647/647 [==============================] - 1817s 3s/step - loss: 0.2071 - accuracy: 0.9161 - val_loss: 0.5821 - val_accuracy: 0.7874\n"
     ]
    },
    {
     "data": {
      "text/plain": [
       "<keras.callbacks.History at 0x2a2799d3d00>"
      ]
     },
     "execution_count": 15,
     "metadata": {},
     "output_type": "execute_result"
    }
   ],
   "source": [
    "model.fit(X, y, epochs = 5, validation_split = 0.1, batch_size = 32, callbacks= [tensorboard])"
   ]
  },
  {
   "cell_type": "code",
   "execution_count": 29,
   "id": "02b6f489",
   "metadata": {},
   "outputs": [],
   "source": [
    " model.save('model.h5')"
   ]
  },
  {
   "cell_type": "code",
   "execution_count": 17,
   "id": "7be58666",
   "metadata": {},
   "outputs": [],
   "source": [
    "data = np.ndarray(shape=(1, 100, 100, 3), dtype=np.float32)"
   ]
  },
  {
   "cell_type": "code",
   "execution_count": 34,
   "id": "614b17ae",
   "metadata": {},
   "outputs": [
    {
     "name": "stdout",
     "output_type": "stream",
     "text": [
      "Dog\n"
     ]
    }
   ],
   "source": [
    "test_image_path = \"3.jpg\"\n",
    "\n",
    "test_image = cv2.imread(test_image_path)\n",
    "\n",
    "test_img = cv2.resize(test_image,(100,100))\n",
    "\n",
    "test_img = np.asarray(test_img)\n",
    "\n",
    "normalized_image_array = (test_img.astype(np.float32) / 255)\n",
    "# Load the image into the array\n",
    "data[0] = normalized_image_array\n",
    "\n",
    "# run the inference\n",
    "prediction = model.predict(data)\n",
    "\n",
    "if prediction.round()[:,0] == 1:\n",
    "    print(\"Cat\")\n",
    "else:\n",
    "    print(\"Dog\")"
   ]
  },
  {
   "cell_type": "code",
   "execution_count": 35,
   "id": "8f65c084",
   "metadata": {},
   "outputs": [
    {
     "name": "stdout",
     "output_type": "stream",
     "text": [
      "Cat\n"
     ]
    }
   ],
   "source": [
    "test_image_path = \"7.jpg\"\n",
    "\n",
    "test_image = cv2.imread(test_image_path)\n",
    "\n",
    "test_img = cv2.resize(test_image,(100,100))\n",
    "\n",
    "test_img = np.asarray(test_img)\n",
    "\n",
    "normalized_image_array = (test_img.astype(np.float32) / 255)\n",
    "# Load the image into the array\n",
    "data[0] = normalized_image_array\n",
    "\n",
    "# run the inference\n",
    "prediction = model.predict(data)\n",
    "\n",
    "if prediction.round()[:,0] == 1:\n",
    "    print(\"Cat\")\n",
    "else:\n",
    "    print(\"Dog\")"
   ]
  },
  {
   "cell_type": "code",
   "execution_count": null,
   "id": "93bb0384",
   "metadata": {},
   "outputs": [],
   "source": []
  }
 ],
 "metadata": {
  "kernelspec": {
   "display_name": "Python 3 (ipykernel)",
   "language": "python",
   "name": "python3"
  },
  "language_info": {
   "codemirror_mode": {
    "name": "ipython",
    "version": 3
   },
   "file_extension": ".py",
   "mimetype": "text/x-python",
   "name": "python",
   "nbconvert_exporter": "python",
   "pygments_lexer": "ipython3",
   "version": "3.9.7"
  },
  "latex_envs": {
   "LaTeX_envs_menu_present": true,
   "autoclose": false,
   "autocomplete": true,
   "bibliofile": "biblio.bib",
   "cite_by": "apalike",
   "current_citInitial": 1,
   "eqLabelWithNumbers": true,
   "eqNumInitial": 1,
   "hotkeys": {
    "equation": "Ctrl-E",
    "itemize": "Ctrl-I"
   },
   "labels_anchors": false,
   "latex_user_defs": false,
   "report_style_numbering": false,
   "user_envs_cfg": false
  }
 },
 "nbformat": 4,
 "nbformat_minor": 5
}
